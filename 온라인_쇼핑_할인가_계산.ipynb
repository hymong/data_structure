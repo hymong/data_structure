{
  "nbformat": 4,
  "nbformat_minor": 0,
  "metadata": {
    "colab": {
      "provenance": [],
      "authorship_tag": "ABX9TyNeug2D3b1LPWC6c8tHVKIh",
      "include_colab_link": true
    },
    "kernelspec": {
      "name": "python3",
      "display_name": "Python 3"
    },
    "language_info": {
      "name": "python"
    }
  },
  "cells": [
    {
      "cell_type": "markdown",
      "metadata": {
        "id": "view-in-github",
        "colab_type": "text"
      },
      "source": [
        "<a href=\"https://colab.research.google.com/github/hymong/data_structure/blob/main/%EC%98%A8%EB%9D%BC%EC%9D%B8_%EC%87%BC%ED%95%91_%ED%95%A0%EC%9D%B8%EA%B0%80_%EA%B3%84%EC%82%B0.ipynb\" target=\"_parent\"><img src=\"https://colab.research.google.com/assets/colab-badge.svg\" alt=\"Open In Colab\"/></a>"
      ]
    },
    {
      "cell_type": "code",
      "execution_count": 13,
      "metadata": {
        "id": "GAHHvGwQYZiu"
      },
      "outputs": [],
      "source": [
        "#온라인 쇼핑 할인가 계산\n",
        "# 자동 완성 기능 사용하지 말고, 직접 하나하나 생각해서 해보기!\n",
        "\n",
        "\n",
        "total_amount = 100000 # 총 구매금액\n",
        "discount_rate = 0    # 할인율"
      ]
    },
    {
      "cell_type": "code",
      "source": [
        "if total_amount >= 100000 :\n",
        "  discount_rate = 0.2\n",
        "elif total_amount >= 50000:\n",
        "  discount_rate = 0.1\n",
        "#else:\n",
        "#  discount_rate = 0\n",
        "#마지막 else부분은 위에 할인율이 기본값 0 으로 설정되어 있으므로 필요 없다.\n",
        "price = total_amount * (1 - discount_rate)\n",
        "print(f\"최종 가격 : {price}원\")"
      ],
      "metadata": {
        "colab": {
          "base_uri": "https://localhost:8080/"
        },
        "id": "fQCH0p2KZJAj",
        "outputId": "f6680dc7-889c-4627-d8aa-e999bee9af5a"
      },
      "execution_count": 17,
      "outputs": [
        {
          "output_type": "stream",
          "name": "stdout",
          "text": [
            "최종 가격 : 80000.0원\n"
          ]
        }
      ]
    }
  ]
}