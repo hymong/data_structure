{
  "nbformat": 4,
  "nbformat_minor": 0,
  "metadata": {
    "colab": {
      "provenance": [],
      "authorship_tag": "ABX9TyP7CVpsGFeT4OH+w9lR6xVS",
      "include_colab_link": true
    },
    "kernelspec": {
      "name": "python3",
      "display_name": "Python 3"
    },
    "language_info": {
      "name": "python"
    }
  },
  "cells": [
    {
      "cell_type": "markdown",
      "metadata": {
        "id": "view-in-github",
        "colab_type": "text"
      },
      "source": [
        "<a href=\"https://colab.research.google.com/github/hymong/data_structure/blob/main/4%EC%9E%A5_%EC%8A%A4%ED%83%9D%EA%B5%AC%ED%98%842.ipynb\" target=\"_parent\"><img src=\"https://colab.research.google.com/assets/colab-badge.svg\" alt=\"Open In Colab\"/></a>"
      ]
    },
    {
      "cell_type": "code",
      "execution_count": 18,
      "metadata": {
        "id": "i07aC6cUZ_bi"
      },
      "outputs": [],
      "source": [
        "# 스택의 데이터 : 전역변수\n",
        "capacity = 10\n",
        "array = [None]*capacity # [None] 사용\n",
        "top = -1"
      ]
    },
    {
      "cell_type": "code",
      "source": [
        "# 스택의 연산: 일반 연산\n",
        "# 스택에서 구현되어야 하는 일반 연산\n",
        "# 1. isEmpty()\n",
        "# 2. isFull()\n",
        "# 3. push()\n",
        "# 4. pop()\n",
        "# 5. peek()\n",
        "\n",
        "def isEmpty():\n",
        "  if top == -1: return True\n",
        "  else: return False\n",
        "\n",
        "def isFull():\n",
        "  if top == capacity: return True\n",
        "  else: return False\n",
        "\n",
        "def push(e):\n",
        "  if not isFull():\n",
        "    top += 1\n",
        "    array[top] = e\n",
        "  else:\n",
        "    print(\"stack overflow\")\n",
        "    exit() # exit() 적어줘야 한다.\n",
        "\n",
        "def pop():\n",
        "  if not isEmpty():\n",
        "    top -= 1\n",
        "    return array[top+1]\n",
        "  else:\n",
        "    print(\"stack underflow\")\n",
        "    exit()\n",
        "\n",
        "def peek():\n",
        "  if not isEmpty():\n",
        "    return array[top]\n",
        "  else:\n",
        "    print(\"stack underflow\")\n",
        "\n",
        "\n",
        "\n",
        "\n"
      ],
      "metadata": {
        "id": "ItYM5u3Bc_6f"
      },
      "execution_count": 17,
      "outputs": []
    },
    {
      "cell_type": "code",
      "source": [
        "# 스택 클래스로 구현\n",
        "\n",
        "# 전역변수를 클래스의 멤버변수로 변환\n",
        "class ArrayStack :\n",
        "  def __init__(self,capacity):\n",
        "    self.capacity = capacity\n",
        "    self.array = [None]*capacity\n",
        "    self.top = -1\n",
        "\n",
        "  def isEmpty(self):\n",
        "    if self.top == -1: return True\n",
        "    else: return False\n",
        "\n",
        "  def isFull(self):\n",
        "    if self.top == self.capacity: return True  # self.capacity self를 빼먹으면 안된다!!\n",
        "    else: return False\n",
        "\n",
        "  def push(self,e):\n",
        "    if not self.isFull():  # self.isFull() self를 빼먹으면 안된다!!\n",
        "      self.top += 1\n",
        "      self.array[self.top] = e\n",
        "    else:\n",
        "      print(\"stack overflow\")\n",
        "      exit() # exit() 적어줘야 한다.\n",
        "\n",
        "  def pop(self):\n",
        "    if not self.isEmpty():\n",
        "      self.top -= 1\n",
        "      return self.array[self.top+1]\n",
        "    else:\n",
        "      print(\"stack underflow\")\n",
        "      exit()\n",
        "\n",
        "  def peek(self):\n",
        "    if not self.isEmpty():\n",
        "      return self.array[self.top]\n",
        "    else:\n",
        "      print(\"stack underflow\")\n",
        "\n",
        "\n",
        "\n",
        "\n",
        "\n",
        "\n"
      ],
      "metadata": {
        "id": "Lyt4qrcfgNue"
      },
      "execution_count": 21,
      "outputs": []
    },
    {
      "cell_type": "code",
      "source": [
        "# 문자열 역순 출력 프로그램\n",
        "s = ArrayStack(100)\n",
        "\n",
        "msg = input(\"문자열 입력: \")\n",
        "for i in msg:\n",
        "  s.push(i)\n",
        "\n",
        "print(\"문자열 출력: \",end=\"\")\n",
        "while not s.isEmpty():\n",
        "  print(s.pop(),end=\"\")\n",
        "print()\n"
      ],
      "metadata": {
        "colab": {
          "base_uri": "https://localhost:8080/"
        },
        "collapsed": true,
        "id": "GVwXiFvZh-9Z",
        "outputId": "3661cff8-f8d1-4042-c3f2-0bc88c0ce536"
      },
      "execution_count": 20,
      "outputs": [
        {
          "output_type": "stream",
          "name": "stdout",
          "text": [
            "문자열 입력: 12345\n",
            "문자열 출력: 54321\n"
          ]
        }
      ]
    },
    {
      "cell_type": "code",
      "source": [
        "# 연산들의 추가: 화면 출력\n",
        "s = ArrayStack(10)\n",
        "def __str__(self): # 추가 연산 : 화면 출력에서 아주 아주 중요!!!!!!!!\n",
        "  return str((self.array[0:self.top+1])[::-1])  # 제발 top에도 self. 빼먹지 말자!!\n",
        "\n",
        "\n",
        "for i in range(1,6):\n",
        "  s.push(i)\n",
        "print(\"push 5회:\",s)"
      ],
      "metadata": {
        "colab": {
          "base_uri": "https://localhost:8080/"
        },
        "id": "ZZ5_5YAKkk7u",
        "outputId": "63d946aa-8e85-4e71-a928-9147c8ac067b"
      },
      "execution_count": 23,
      "outputs": [
        {
          "output_type": "stream",
          "name": "stdout",
          "text": [
            "push 5회: <__main__.ArrayStack object at 0x7e35a4b29c90>\n"
          ]
        }
      ]
    },
    {
      "cell_type": "code",
      "source": [
        "# 괄호 검사의 구현\n",
        "# 1. 스택을 준비\n",
        "# 2. 문장을 검사하다가 만약 왼쪽 괄호가 나오면 스택에 추가한다.\n",
        "\n",
        "\n",
        "def checkBrackets(statement):\n",
        "  stack = ArrayStack(100)\n",
        "  for ch in statement:\n",
        "    if ch == \"(\"or ch==\"[\"or ch==\"{\":\n",
        "      stack.push(ch)\n",
        "    elif ch == \")\" or ch==\"]\" or ch==\"}\":\n",
        "      if stack.isEmpty():\n",
        "        return False\n",
        "      else:\n",
        "        left = stack.pop()\n",
        "        if (ch==\"}\" and left != \"{\") or (ch==\")\" and left != \"(\") or (ch==\"]\" and left != \"[\"):\n",
        "          return False\n",
        "\n",
        "  return stack.isEmpty()\n",
        "\n",
        "s1 = \"{ A[ (i+1)]=0;}\"\n",
        "s2 = \"if( (i==0) && (j=0)\"\n",
        "s3 = \"A[ (i+1])=0;\"\n",
        "\n",
        "print(s1, \"-->\", checkBrackets(s1))\n",
        "print(s2, \"-->\", checkBrackets(s2))\n",
        "print(s3,\"-->\", checkBrackets(s3))\n",
        "\n"
      ],
      "metadata": {
        "id": "OP37ns1fKN_H",
        "colab": {
          "base_uri": "https://localhost:8080/"
        },
        "outputId": "4dadd40a-5d73-4658-ef9c-24db8532fa51"
      },
      "execution_count": 24,
      "outputs": [
        {
          "output_type": "stream",
          "name": "stdout",
          "text": [
            "{ A[ (i+1)]=0;} --> True\n",
            "if( (i==0) && (j=0) --> False\n",
            "A[ (i+1])=0; --> False\n"
          ]
        }
      ]
    },
    {
      "cell_type": "code",
      "source": [
        "# 소스 파일에서 괄호 검사\n",
        "filename = \"ArrayStack.h\"\n",
        "infile = open(filename,\"r\")\n",
        "str = infile.read()\n",
        "infile.close()\n",
        "\n",
        "print(\"소스파일\", filename, \"-->\", checkBrackets(str))\n",
        "\n",
        "\n",
        "# 소스 파일에서 괄호 검사 (method 2)\n",
        "filename = \"ArrayStack.h\"\n",
        "with open(filename,\"r\") as infile:\n",
        "  str = infile.read()\n",
        "  print(\"소스파일\", filename, \"-->\", checkBrackets(str))\n",
        "\n",
        "\n"
      ],
      "metadata": {
        "colab": {
          "base_uri": "https://localhost:8080/",
          "height": 211
        },
        "collapsed": true,
        "id": "eqeOIiI--uky",
        "outputId": "4811a35b-5abc-4260-bb7d-267b7d291492"
      },
      "execution_count": 25,
      "outputs": [
        {
          "output_type": "error",
          "ename": "FileNotFoundError",
          "evalue": "[Errno 2] No such file or directory: 'ArrayStack.h'",
          "traceback": [
            "\u001b[0;31m---------------------------------------------------------------------------\u001b[0m",
            "\u001b[0;31mFileNotFoundError\u001b[0m                         Traceback (most recent call last)",
            "\u001b[0;32m<ipython-input-25-2daed6efe24f>\u001b[0m in \u001b[0;36m<cell line: 3>\u001b[0;34m()\u001b[0m\n\u001b[1;32m      1\u001b[0m \u001b[0;31m# 소스 파일에서 괄호 검사\u001b[0m\u001b[0;34m\u001b[0m\u001b[0;34m\u001b[0m\u001b[0m\n\u001b[1;32m      2\u001b[0m \u001b[0mfilename\u001b[0m \u001b[0;34m=\u001b[0m \u001b[0;34m\"ArrayStack.h\"\u001b[0m\u001b[0;34m\u001b[0m\u001b[0;34m\u001b[0m\u001b[0m\n\u001b[0;32m----> 3\u001b[0;31m \u001b[0minfile\u001b[0m \u001b[0;34m=\u001b[0m \u001b[0mopen\u001b[0m\u001b[0;34m(\u001b[0m\u001b[0mfilename\u001b[0m\u001b[0;34m,\u001b[0m\u001b[0;34m\"r\"\u001b[0m\u001b[0;34m)\u001b[0m\u001b[0;34m\u001b[0m\u001b[0;34m\u001b[0m\u001b[0m\n\u001b[0m\u001b[1;32m      4\u001b[0m \u001b[0mstr\u001b[0m \u001b[0;34m=\u001b[0m \u001b[0minfile\u001b[0m\u001b[0;34m.\u001b[0m\u001b[0mread\u001b[0m\u001b[0;34m(\u001b[0m\u001b[0;34m)\u001b[0m\u001b[0;34m\u001b[0m\u001b[0;34m\u001b[0m\u001b[0m\n\u001b[1;32m      5\u001b[0m \u001b[0minfile\u001b[0m\u001b[0;34m.\u001b[0m\u001b[0mclose\u001b[0m\u001b[0;34m(\u001b[0m\u001b[0;34m)\u001b[0m\u001b[0;34m\u001b[0m\u001b[0;34m\u001b[0m\u001b[0m\n",
            "\u001b[0;31mFileNotFoundError\u001b[0m: [Errno 2] No such file or directory: 'ArrayStack.h'"
          ]
        }
      ]
    }
  ]
}