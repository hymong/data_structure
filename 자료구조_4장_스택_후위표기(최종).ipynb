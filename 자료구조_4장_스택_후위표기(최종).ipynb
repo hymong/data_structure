{
  "nbformat": 4,
  "nbformat_minor": 0,
  "metadata": {
    "colab": {
      "provenance": [],
      "authorship_tag": "ABX9TyOLbakcERCZvUoMAxbDHXeb",
      "include_colab_link": true
    },
    "kernelspec": {
      "name": "python3",
      "display_name": "Python 3"
    },
    "language_info": {
      "name": "python"
    }
  },
  "cells": [
    {
      "cell_type": "markdown",
      "metadata": {
        "id": "view-in-github",
        "colab_type": "text"
      },
      "source": [
        "<a href=\"https://colab.research.google.com/github/hymong/data_structure/blob/main/%EC%9E%90%EB%A3%8C%EA%B5%AC%EC%A1%B0_4%EC%9E%A5_%EC%8A%A4%ED%83%9D_%ED%9B%84%EC%9C%84%ED%91%9C%EA%B8%B0(%EC%B5%9C%EC%A2%85).ipynb\" target=\"_parent\"><img src=\"https://colab.research.google.com/assets/colab-badge.svg\" alt=\"Open In Colab\"/></a>"
      ]
    },
    {
      "cell_type": "code",
      "source": [
        "# 스택 클래스로 구현\n",
        "\n",
        "# 전역변수를 클래스의 멤버변수로 변환\n",
        "class ArrayStack :\n",
        "  def __init__(self,capacity):\n",
        "    self.capacity = capacity\n",
        "    self.array = [None]*capacity\n",
        "    self.top = -1\n",
        "\n",
        "  def isEmpty(self):\n",
        "    if self.top == -1: return True\n",
        "    else: return False\n",
        "\n",
        "  def isFull(self):\n",
        "    if self.top == self.capacity: return True  # self.capacity self를 빼먹으면 안된다!!\n",
        "    else: return False\n",
        "\n",
        "  def push(self,e):\n",
        "    if not self.isFull():  # self.isFull() self를 빼먹으면 안된다!!\n",
        "      self.top += 1\n",
        "      self.array[self.top] = e\n",
        "    else:\n",
        "      print(\"stack overflow\")\n",
        "      exit() # exit() 적어줘야 한다.\n",
        "\n",
        "  def pop(self):\n",
        "    if not self.isEmpty():\n",
        "      self.top -= 1\n",
        "      return self.array[self.top+1]\n",
        "    else:\n",
        "      print(\"stack underflow\")\n",
        "      exit()\n",
        "\n",
        "  def peek(self):\n",
        "    if not self.isEmpty():\n",
        "      return self.array[self.top]\n",
        "    else:\n",
        "      print(\"stack underflow\")\n",
        "\n",
        "\n",
        "\n",
        "\n"
      ],
      "metadata": {
        "id": "32yewVUjGtf3"
      },
      "execution_count": 1,
      "outputs": []
    },
    {
      "cell_type": "code",
      "execution_count": 9,
      "metadata": {
        "colab": {
          "base_uri": "https://localhost:8080/"
        },
        "id": "zamMW6YpAgAF",
        "outputId": "296ac604-fb3e-49eb-f167-6a75da8aa60e"
      },
      "outputs": [
        {
          "output_type": "stream",
          "name": "stdout",
          "text": [
            "['8', '2', '/', '3', '-', '3', '2', '*', '+'] --> 7.0\n"
          ]
        }
      ],
      "source": [
        "# 스택을 이용한 계산기 프로그램\n",
        "# 1. 중위표기 -> 후위표기\n",
        "# 2. 후위표기 식의 계산\n",
        "\n",
        "# 후위 표기 식의 계산\n",
        "\n",
        "def evalPostfix(expr):\n",
        "  stack = ArrayStack(100)\n",
        "  for i in expr:\n",
        "    if not (i == \"+\" or i == \"-\" or i == \"*\" or i == \"/\"):\n",
        "      stack.push(float(i))\n",
        "    elif i == \"+\":\n",
        "      if not stack.isEmpty():\n",
        "        second = stack.pop()\n",
        "        first = stack.pop()\n",
        "        third = first + second\n",
        "        stack.push(third)\n",
        "    elif i == \"-\":\n",
        "      if not stack.isEmpty():\n",
        "        second = stack.pop()\n",
        "        first = stack.pop()\n",
        "        third = first - second\n",
        "        stack.push(third)\n",
        "    elif i == \"*\":\n",
        "      if not stack.isEmpty():\n",
        "        second = stack.pop()\n",
        "        first = stack.pop()\n",
        "        third = first * second\n",
        "        stack.push(third)\n",
        "    elif i == \"/\":\n",
        "      if not stack.isEmpty():\n",
        "        second = stack.pop()\n",
        "        first = stack.pop()\n",
        "        third = first / second\n",
        "        stack.push(third)\n",
        "\n",
        "  return stack.pop()\n",
        "\n",
        "expr1 = ['8','2','/','3','-','3','2','*','+']\n",
        "print(expr1,'-->',evalPostfix(expr1))\n",
        "\n",
        "\n",
        "\n",
        "\n"
      ]
    },
    {
      "cell_type": "code",
      "source": [
        "# 스택을 이용한 계산기 프로그램\n",
        "# 1. 중위표기 -> 후위표기\n",
        "# 2. 후위표기 식의 계산\n",
        "\n",
        "# 후위 표기 식의 계산\n",
        "def evalPostfix(expr):\n",
        "  s = ArrayStack(100)\n",
        "\n",
        "  for token in expr:\n",
        "    if token in '+-*/':\n",
        "      val2 = s.pop()\n",
        "      val1 = s.pop()\n",
        "      if (token == '+'): s.push(val1 + val2)\n",
        "      elif (token == '-'): s.push(val1 - val2)\n",
        "      elif (token == '*'): s.push(val1 * val2)\n",
        "      elif (token == '/'): s.push(val1 / val2)\n",
        "    else:\n",
        "      s.push(float(token))\n",
        "\n",
        "  return s.pop()"
      ],
      "metadata": {
        "id": "_6kzGawpUjar"
      },
      "execution_count": 16,
      "outputs": []
    },
    {
      "cell_type": "code",
      "source": [
        "# 중위표기 -> 후위표기\n",
        "# 1. 연산자 우선 순위 설정\n",
        "# 2. 구현\n",
        "\n",
        "def precedence(op):\n",
        "  if op=='()' or op == ')' : return 0\n",
        "  elif op=='+' or op == '-': return 1\n",
        "  elif op == '*' or op=='/': return 2\n",
        "  else: return -1\n",
        "\n",
        "def Infix2Postfix(expr):\n",
        "  s = ArrayStack(100)\n",
        "  output = []\n",
        "\n",
        "  for term in expr:\n",
        "    if term in '(':\n",
        "      s.push(term)\n",
        "    elif term in ')':\n",
        "      while not s.isEmpty():\n",
        "        op = s.pop()\n",
        "        if op == '(':\n",
        "          break\n",
        "        else:\n",
        "           output.append(op)\n",
        "    elif term in \"+-/*\":\n",
        "      while not s.isEmpty():\n",
        "        op = s.peek()\n",
        "        if (precedence(term) <= precedence(op)):\n",
        "          output.append(op)\n",
        "          s.pop()\n",
        "        else:\n",
        "          break\n",
        "      s.push(term)\n",
        "    else:\n",
        "      output.append(term)\n",
        "\n",
        "  while not s.isEmpty():\n",
        "    output.append(s.pop())\n",
        "\n",
        "  return output\n",
        "\n",
        "infix1 = ['8','/','2','-','3','+','(','3','*','2',')']\n",
        "infix2 = ['1','/','2','*','4','*','(','1','/','4',')']\n",
        "postfix1 = Infix2Postfix(infix1)\n",
        "postfix2 = Infix2Postfix(infix2)\n",
        "result1 = evalPostfix(postfix1)\n",
        "result2 = evalPostfix(postfix2)\n",
        "\n",
        "print('중위표기: ', infix1)\n",
        "print('후위표기: ', postfix1)\n",
        "print('계산결과: ', result1)\n",
        "\n",
        "print('중위표기: ', infix2)\n",
        "print('후위표기: ', postfix2)\n",
        "print('계산결과: ', result2)"
      ],
      "metadata": {
        "colab": {
          "base_uri": "https://localhost:8080/"
        },
        "id": "_BkkqE2_GsbD",
        "outputId": "29a47458-32a4-49e5-d6e6-300c4a4fdee8"
      },
      "execution_count": 15,
      "outputs": [
        {
          "output_type": "stream",
          "name": "stdout",
          "text": [
            "중위표기:  ['8', '/', '2', '-', '3', '+', '(', '3', '*', '2', ')']\n",
            "후위표기:  ['8', '2', '/', '3', '-', '3', '2', '*', '+']\n",
            "계산결과:  7.0\n",
            "중위표기:  ['1', '/', '2', '*', '4', '*', '(', '1', '/', '4', ')']\n",
            "후위표기:  ['1', '2', '/', '4', '*', '1', '4', '/', '*']\n",
            "계산결과:  0.5\n"
          ]
        }
      ]
    },
    {
      "cell_type": "code",
      "source": [],
      "metadata": {
        "id": "4SMymMTROXas"
      },
      "execution_count": null,
      "outputs": []
    }
  ]
}