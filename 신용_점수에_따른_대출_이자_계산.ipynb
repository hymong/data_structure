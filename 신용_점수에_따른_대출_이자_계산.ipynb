{
  "nbformat": 4,
  "nbformat_minor": 0,
  "metadata": {
    "colab": {
      "provenance": [],
      "authorship_tag": "ABX9TyOMiD5QOQaofDFD3hEX/Oia",
      "include_colab_link": true
    },
    "kernelspec": {
      "name": "python3",
      "display_name": "Python 3"
    },
    "language_info": {
      "name": "python"
    }
  },
  "cells": [
    {
      "cell_type": "markdown",
      "metadata": {
        "id": "view-in-github",
        "colab_type": "text"
      },
      "source": [
        "<a href=\"https://colab.research.google.com/github/hymong/data_structure/blob/main/%EC%8B%A0%EC%9A%A9_%EC%A0%90%EC%88%98%EC%97%90_%EB%94%B0%EB%A5%B8_%EB%8C%80%EC%B6%9C_%EC%9D%B4%EC%9E%90_%EA%B3%84%EC%82%B0.ipynb\" target=\"_parent\"><img src=\"https://colab.research.google.com/assets/colab-badge.svg\" alt=\"Open In Colab\"/></a>"
      ]
    },
    {
      "cell_type": "code",
      "execution_count": 3,
      "metadata": {
        "colab": {
          "base_uri": "https://localhost:8080/"
        },
        "id": "1oPLdGBHgRZM",
        "outputId": "2907e271-97c0-4644-bf69-e336b29f603a"
      },
      "outputs": [
        {
          "output_type": "stream",
          "name": "stdout",
          "text": [
            "1년 뒤 갚아야 할 돈: 10500000\n"
          ]
        }
      ],
      "source": [
        "# 신용 점수에 따른 대출 이자 계산\n",
        "\n",
        "credit_score = 650\n",
        "loan_amount = 10000000\n",
        "\n",
        "if credit_score >= 700:\n",
        "  money_payback = loan_amount * 1.035\n",
        "elif credit_score >= 600:\n",
        "  money_payback = loan_amount * 1.05\n",
        "else:\n",
        "  money_payback = loan_amount * 1.07\n",
        "\n",
        "# 조건문에서는 이자율만 입력해주고\n",
        "# 조건문 끝난후에 money_payback 계산 하는 방식으로 코드 간결화 가능\n",
        "\n",
        "print(f\"1년 뒤 갚아야 할 돈: {money_payback:.0f}\")"
      ]
    }
  ]
}