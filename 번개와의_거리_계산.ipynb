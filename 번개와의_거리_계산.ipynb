{
  "nbformat": 4,
  "nbformat_minor": 0,
  "metadata": {
    "colab": {
      "provenance": [],
      "authorship_tag": "ABX9TyNUSNdsVAG1R3Xpy0J2dGUy",
      "include_colab_link": true
    },
    "kernelspec": {
      "name": "python3",
      "display_name": "Python 3"
    },
    "language_info": {
      "name": "python"
    }
  },
  "cells": [
    {
      "cell_type": "markdown",
      "metadata": {
        "id": "view-in-github",
        "colab_type": "text"
      },
      "source": [
        "<a href=\"https://colab.research.google.com/github/hymong/data_structure/blob/main/%EB%B2%88%EA%B0%9C%EC%99%80%EC%9D%98_%EA%B1%B0%EB%A6%AC_%EA%B3%84%EC%82%B0.ipynb\" target=\"_parent\"><img src=\"https://colab.research.google.com/assets/colab-badge.svg\" alt=\"Open In Colab\"/></a>"
      ]
    },
    {
      "cell_type": "code",
      "execution_count": 2,
      "metadata": {
        "colab": {
          "base_uri": "https://localhost:8080/"
        },
        "id": "xTkqUeTJioeF",
        "outputId": "c54891e0-4fd0-4b19-bf67-c1e0b8c835fe"
      },
      "outputs": [
        {
          "output_type": "stream",
          "name": "stdout",
          "text": [
            "번개는 3430m 떨어진 곳에 발생했습니다\n"
          ]
        }
      ],
      "source": [
        "# 번개와의 거리 계산\n",
        "time_difference = 10 # 시간차 sec\n",
        "sound_speed = 343 # 소리의 속도 m/sec\n",
        "\n",
        "distance = time_difference * sound_speed\n",
        "\n",
        "print(f\"번개는 {distance}m 떨어진 곳에 발생했습니다\")"
      ]
    }
  ]
}