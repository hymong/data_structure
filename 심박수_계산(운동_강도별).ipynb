{
  "nbformat": 4,
  "nbformat_minor": 0,
  "metadata": {
    "colab": {
      "provenance": [],
      "authorship_tag": "ABX9TyMbLD6lbyG25JJk6XFUUhXS",
      "include_colab_link": true
    },
    "kernelspec": {
      "name": "python3",
      "display_name": "Python 3"
    },
    "language_info": {
      "name": "python"
    }
  },
  "cells": [
    {
      "cell_type": "markdown",
      "metadata": {
        "id": "view-in-github",
        "colab_type": "text"
      },
      "source": [
        "<a href=\"https://colab.research.google.com/github/hymong/data_structure/blob/main/%EC%8B%AC%EB%B0%95%EC%88%98_%EA%B3%84%EC%82%B0(%EC%9A%B4%EB%8F%99_%EA%B0%95%EB%8F%84%EB%B3%84).ipynb\" target=\"_parent\"><img src=\"https://colab.research.google.com/assets/colab-badge.svg\" alt=\"Open In Colab\"/></a>"
      ]
    },
    {
      "cell_type": "code",
      "execution_count": 9,
      "metadata": {
        "id": "CX9ckMrBcCiN"
      },
      "outputs": [],
      "source": [
        "# 심박수 계산(운동 강도별)\n",
        "age = 90\n",
        "intensity = \"high\" # 'low', 'moderate', 'high' 중 하나"
      ]
    },
    {
      "cell_type": "code",
      "source": [
        "if intensity == \"low\":\n",
        "  rate = 0.5\n",
        "elif intensity == \"moderate\":\n",
        "  rate = 0.7\n",
        "else:\n",
        "  rate = 0.85\n",
        "\n",
        "BPM = (220 - age) * rate\n",
        "# 중복되는 부분을 단순화 해서 코드를 깔끔하게 짜는 것도 중요\n",
        "\n",
        "print(f\"목표 BPM은 {BPM}입니다\")\n"
      ],
      "metadata": {
        "colab": {
          "base_uri": "https://localhost:8080/"
        },
        "id": "iMebSiYJcbGk",
        "outputId": "5777fbee-de41-45cf-ce85-ca9eadf9fade"
      },
      "execution_count": 10,
      "outputs": [
        {
          "output_type": "stream",
          "name": "stdout",
          "text": [
            "목표 BPM은 110.5입니다\n"
          ]
        }
      ]
    }
  ]
}