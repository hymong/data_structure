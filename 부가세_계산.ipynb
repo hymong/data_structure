{
  "nbformat": 4,
  "nbformat_minor": 0,
  "metadata": {
    "colab": {
      "provenance": [],
      "authorship_tag": "ABX9TyOSYc/fAEMwQIu7hHKP8k8I",
      "include_colab_link": true
    },
    "kernelspec": {
      "name": "python3",
      "display_name": "Python 3"
    },
    "language_info": {
      "name": "python"
    }
  },
  "cells": [
    {
      "cell_type": "markdown",
      "metadata": {
        "id": "view-in-github",
        "colab_type": "text"
      },
      "source": [
        "<a href=\"https://colab.research.google.com/github/hymong/data_structure/blob/main/%EB%B6%80%EA%B0%80%EC%84%B8_%EA%B3%84%EC%82%B0.ipynb\" target=\"_parent\"><img src=\"https://colab.research.google.com/assets/colab-badge.svg\" alt=\"Open In Colab\"/></a>"
      ]
    },
    {
      "cell_type": "code",
      "execution_count": 1,
      "metadata": {
        "colab": {
          "base_uri": "https://localhost:8080/"
        },
        "id": "cfdR2rF1jqBX",
        "outputId": "531ad955-5724-4936-9496-7c7814e03c4b"
      },
      "outputs": [
        {
          "output_type": "stream",
          "name": "stdout",
          "text": [
            "소비자가: 100\n",
            "공급가액: 90.9090909090909\n",
            "VAT: 9.090909090909092\n"
          ]
        }
      ],
      "source": [
        "# 부가세 계산\n",
        "\n",
        "price = 100\n",
        "original_price = price / 1.1\n",
        "VAT = original_price * 0.1\n",
        "\n",
        "print(f\"소비자가: {price}\")\n",
        "print(f\"공급가액: {original_price}\")\n",
        "print(f\"VAT: {VAT}\")\n",
        "\n"
      ]
    }
  ]
}