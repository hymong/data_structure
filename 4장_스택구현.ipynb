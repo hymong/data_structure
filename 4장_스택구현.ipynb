{
  "nbformat": 4,
  "nbformat_minor": 0,
  "metadata": {
    "colab": {
      "provenance": [],
      "authorship_tag": "ABX9TyOzPs6G3SVokHgCxG13W5dj",
      "include_colab_link": true
    },
    "kernelspec": {
      "name": "python3",
      "display_name": "Python 3"
    },
    "language_info": {
      "name": "python"
    }
  },
  "cells": [
    {
      "cell_type": "markdown",
      "metadata": {
        "id": "view-in-github",
        "colab_type": "text"
      },
      "source": [
        "<a href=\"https://colab.research.google.com/github/hymong/data_structure/blob/main/4%EC%9E%A5_%EC%8A%A4%ED%83%9D%EA%B5%AC%ED%98%84.ipynb\" target=\"_parent\"><img src=\"https://colab.research.google.com/assets/colab-badge.svg\" alt=\"Open In Colab\"/></a>"
      ]
    },
    {
      "cell_type": "code",
      "execution_count": 3,
      "metadata": {
        "id": "i07aC6cUZ_bi"
      },
      "outputs": [],
      "source": [
        "# 스택의 데이터 : 전역변수\n",
        "capacity = 10\n",
        "array = [None]*capacity # [None] 사용\n",
        "top = -1"
      ]
    },
    {
      "cell_type": "code",
      "source": [
        "# 스택의 연산: 일반 연산\n",
        "# 스택에서 구현되어야 하는 일반 연산\n",
        "# 1. isEmpty()\n",
        "# 2. isFull()\n",
        "# 3. push()\n",
        "# 4. pop()\n",
        "# 5. peek()\n",
        "\n",
        "def isEmpty():\n",
        "  if top == -1: return True\n",
        "  else: return False\n",
        "\n",
        "def isFull():\n",
        "  if top == capacity: return True\n",
        "  else: return False\n",
        "\n",
        "def push(e):\n",
        "  if not isFull():\n",
        "    top += 1\n",
        "    array[top] = e\n",
        "  else:\n",
        "    print(\"stack overflow\")\n",
        "    exit() # exit() 적어줘야 한다.\n",
        "\n",
        "def pop():\n",
        "  if not isEmpty():\n",
        "    top -= 1\n",
        "    return array[top+1]\n",
        "  else:\n",
        "    print(\"stack underflow\")\n",
        "    exit()\n",
        "\n",
        "def peek():\n",
        "  if not isEmpty():\n",
        "    return array[top]\n",
        "  else:\n",
        "    print(\"stack underflow\")\n",
        "\n",
        "\n",
        "\n",
        "\n"
      ],
      "metadata": {
        "id": "ItYM5u3Bc_6f"
      },
      "execution_count": 5,
      "outputs": []
    },
    {
      "cell_type": "code",
      "source": [
        "# 스택 클래스로 구현\n",
        "\n",
        "# 전역변수를 클래스의 멤버변수로 변환\n",
        "class ArrayStack :\n",
        "  def __init__(self,capacity):\n",
        "    self.capacity = capacity\n",
        "    self.array = [None]*capacity\n",
        "    self.top = -1\n",
        "\n",
        "  def isEmpty(self):\n",
        "    if self.top == -1: return True\n",
        "    else: return False\n",
        "\n",
        "  def isFull(self):\n",
        "    if self.top == self.capacity: return True  # self.capacity self를 빼먹으면 안된다!!\n",
        "    else: return False\n",
        "\n",
        "  def push(self,e):\n",
        "    if not self.isFull():  # self.isFull() self를 빼먹으면 안된다!!\n",
        "      self.top += 1\n",
        "      self.array[self.top] = e\n",
        "    else:\n",
        "      print(\"stack overflow\")\n",
        "      exit() # exit() 적어줘야 한다.\n",
        "\n",
        "  def pop(self):\n",
        "    if not self.isEmpty():\n",
        "      self.top -= 1\n",
        "      return self.array[self.top+1]\n",
        "    else:\n",
        "      print(\"stack underflow\")\n",
        "      exit()\n",
        "\n",
        "  def peek(self):\n",
        "    if not self.isEmpty():\n",
        "      return self.array[self.top]\n",
        "    else:\n",
        "      print(\"stack underflow\")\n",
        "\n",
        "  def __str__(self): # 추가 연산 : 화면 출력에서 아주 아주 중요!!!!!!!!\n",
        "    return str((self.array[0:self.top+1])[::-1])  # 제발 top에도 self. 빼먹지 말자!!\n",
        "\n",
        "\n",
        "\n",
        "\n"
      ],
      "metadata": {
        "id": "Lyt4qrcfgNue"
      },
      "execution_count": 27,
      "outputs": []
    },
    {
      "cell_type": "code",
      "source": [
        "# 문자열 역순 출력 프로그램\n",
        "s = ArrayStack(100)\n",
        "\n",
        "msg = input(\"문자열 입력: \")\n",
        "for i in msg:\n",
        "  s.push(i)\n",
        "\n",
        "print(\"문자열 출력: \",end=\"\")\n",
        "while not s.isEmpty():\n",
        "  print(s.pop(),end=\"\")\n",
        "print()\n"
      ],
      "metadata": {
        "colab": {
          "base_uri": "https://localhost:8080/"
        },
        "collapsed": true,
        "id": "GVwXiFvZh-9Z",
        "outputId": "c7b79c61-b195-4cda-ab4e-b02070ff9689"
      },
      "execution_count": 8,
      "outputs": [
        {
          "output_type": "stream",
          "name": "stdout",
          "text": [
            "문자열 입력: 안녕하세요. 반갑습니다.\n",
            "문자열 출력: .다니습갑반 .요세하녕안\n"
          ]
        }
      ]
    },
    {
      "cell_type": "code",
      "source": [
        "# 연산들의 추가: 화면 출력\n",
        "s = ArrayStack(10)\n",
        "\n",
        "\n",
        "\n",
        "for i in range(1,6):\n",
        "  s.push(i)\n",
        "print(\"push 5회:\",s)"
      ],
      "metadata": {
        "colab": {
          "base_uri": "https://localhost:8080/"
        },
        "id": "ZZ5_5YAKkk7u",
        "outputId": "b8c1268c-59ea-4eb7-86ff-80bdcc20cdfb"
      },
      "execution_count": 28,
      "outputs": [
        {
          "output_type": "stream",
          "name": "stdout",
          "text": [
            "push 5회: [5, 4, 3, 2, 1]\n"
          ]
        }
      ]
    }
  ]
}