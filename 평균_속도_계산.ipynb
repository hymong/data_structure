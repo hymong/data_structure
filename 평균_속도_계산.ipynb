{
  "nbformat": 4,
  "nbformat_minor": 0,
  "metadata": {
    "colab": {
      "provenance": [],
      "authorship_tag": "ABX9TyMZWhvh+KzY9VmXaL0OsVjU",
      "include_colab_link": true
    },
    "kernelspec": {
      "name": "python3",
      "display_name": "Python 3"
    },
    "language_info": {
      "name": "python"
    }
  },
  "cells": [
    {
      "cell_type": "markdown",
      "metadata": {
        "id": "view-in-github",
        "colab_type": "text"
      },
      "source": [
        "<a href=\"https://colab.research.google.com/github/hymong/data_structure/blob/main/%ED%8F%89%EA%B7%A0_%EC%86%8D%EB%8F%84_%EA%B3%84%EC%82%B0.ipynb\" target=\"_parent\"><img src=\"https://colab.research.google.com/assets/colab-badge.svg\" alt=\"Open In Colab\"/></a>"
      ]
    },
    {
      "cell_type": "code",
      "execution_count": 8,
      "metadata": {
        "colab": {
          "base_uri": "https://localhost:8080/"
        },
        "id": "iyTJ2j_fd5-N",
        "outputId": "0c49d8b1-c9c8-4da0-cce8-5965591fd155"
      },
      "outputs": [
        {
          "output_type": "stream",
          "name": "stdout",
          "text": [
            "평균 속도: 88.89\n"
          ]
        }
      ],
      "source": [
        "#평균 속도 계산\n",
        "time = 27 # 분 단위\n",
        "distance = 2400 # m 단위\n",
        "\n",
        "average_speed = distance / time\n",
        "print(f\"평균 속도: {average_speed:.2f}\") #round 함수를 쓰는 방법도 있음"
      ]
    }
  ]
}