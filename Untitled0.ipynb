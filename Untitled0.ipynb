{
  "nbformat": 4,
  "nbformat_minor": 0,
  "metadata": {
    "colab": {
      "provenance": [],
      "authorship_tag": "ABX9TyOCW/AfTmvrjsJvsRJONK0U",
      "include_colab_link": true
    },
    "kernelspec": {
      "name": "python3",
      "display_name": "Python 3"
    },
    "language_info": {
      "name": "python"
    }
  },
  "cells": [
    {
      "cell_type": "markdown",
      "metadata": {
        "id": "view-in-github",
        "colab_type": "text"
      },
      "source": [
        "<a href=\"https://colab.research.google.com/github/hymong/data_structure/blob/main/Untitled0.ipynb\" target=\"_parent\"><img src=\"https://colab.research.google.com/assets/colab-badge.svg\" alt=\"Open In Colab\"/></a>"
      ]
    },
    {
      "cell_type": "code",
      "execution_count": 3,
      "metadata": {
        "colab": {
          "base_uri": "https://localhost:8080/"
        },
        "id": "4UyDTJ9KlXTG",
        "outputId": "2d066a34-a8cf-4a39-c0dc-9efa7fd31550"
      },
      "outputs": [
        {
          "output_type": "stream",
          "name": "stdout",
          "text": [
            "직접비: 781.2500\n",
            "간접비: 218.7500\n"
          ]
        }
      ],
      "source": [
        "# 정부연구과제 간접비 계산\n",
        "\n",
        "total_budget = 1000\n",
        "indirect_cost_rate = 0.28\n",
        "\n",
        "direct_cost = total_budget / (1 + indirect_cost_rate) # 직접비\n",
        "indirect_cost = direct_cost * indirect_cost_rate      # 간접비\n",
        "\n",
        "print(f\"직접비: {direct_cost:.4f}\")\n",
        "print(f\"간접비: {indirect_cost:.4f}\")"
      ]
    }
  ]
}